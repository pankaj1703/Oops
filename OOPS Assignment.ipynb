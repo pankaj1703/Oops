{
 "cells": [
  {
   "cell_type": "raw",
   "id": "845e8dc2-88e3-4118-956f-e82583ca628a",
   "metadata": {},
   "source": [
    "1. What are the five key concepts of Object-Oriented Programming (OOP)?"
   ]
  },
  {
   "cell_type": "raw",
   "id": "ea8cab3d-d284-43a0-a348-9abb0f8b26bd",
   "metadata": {},
   "source": [
    "Anwer:-\n",
    "        1) Encapsulation in object oriented programming\n",
    "Encapsulation is a principle that seeks to hide the implementation details of objects from the outside world. It states that all important information is contained within the object; only selected data is available externally. Each object's inner workings and state are stored privately within the specified class, whereas other objects do not have access to it or the ability to make changes. Instead, they can only interact with a few public functions or methods. This form of data hiding provides program security and control over object state changes, reduces the risk of errors, and makes the program more understandable.\n",
    "\n",
    "2)Inheritance in object oriented programming\n",
    "Inheritance is a principle that enables developers to create new classes based on existing (parent) classes, with the option of overriding or augmenting their properties and methods. This is especially useful in programs containing thousands of lines of code, as it simplifies maintenance and prevents code duplication. By using the logic of the parent class in the child class, developers can create objects that share code or logic yet are different. This reduces the complexity of the code and eliminates the need to create a new object for each object used in the program.\n",
    "\n",
    "3)Polymorphism in object oriented programming\n",
    "Polymorphism is a principle that complements inheritance by allowing objects of different classes to perform actions with the same name using different code. For instance, the \"show information\" method can be used to display varied data about objects of the \"car\", \"plane\", or \"ship\" type. Furthermore, polymorphism helps to create more flexible and modular programs. Generally, it simplifies the development process as it allows for the creation of common methods and functions to be used for multiple types of objects.\n",
    "\n",
    "4)Abstraction in object oriented programming\n",
    "Abstraction helps you focus on a system's essential elements and ignore the less important details that have no effect on its key features. It allows you to construct more understandable programs. Abstraction can be thought of as an expansion of encapsulation. Take programs that contain thousands of lines of code as an example. Through the principle of abstraction, each object only reveals a specific mechanism for usage. Therefore, the code inside becomes largely independent of other objects. For instance, in a program that stores information about movies, you can create a class \"Movie\" that provides access to only the most essential details, such as title, release year, and genre, while hiding the less important information, like shots or technical aspects.\n",
    "\n",
    "5) Association in object orinted programming\n",
    "Association represents a relationship between two or more objects. It can be a one-to-one, one-to-many, or many-to-many relationship. Associations are typically established through instance variables or method parameters. "
   ]
  },
  {
   "cell_type": "raw",
   "id": "01e41579-26ee-4076-a56c-92e880c0fec3",
   "metadata": {},
   "source": [
    "2. Write a Python class for a `Car` with attributes for `make`, `model`, and `year`. Include a method to display\n",
    "the car's information"
   ]
  },
  {
   "cell_type": "raw",
   "id": "03d6e1a3-82e3-4329-9722-87e45429e121",
   "metadata": {},
   "source": [
    "Answer:-"
   ]
  },
  {
   "cell_type": "code",
   "execution_count": 9,
   "id": "ed2e2390-ff29-4924-844e-f81abea85fe2",
   "metadata": {},
   "outputs": [],
   "source": [
    "class Car:\n",
    "    \n",
    "    wheels = 4\n",
    "\n",
    "    def __init__(self, make, model, year):\n",
    "        \n",
    "        self.make = make\n",
    "        self.model = model\n",
    "        self.year = year\n",
    "\n",
    "    \n",
    "    def start_engine(self):\n",
    "        print(f\"The engine of the {self.year} {self.make} {self.model} is now running.\")"
   ]
  },
  {
   "cell_type": "code",
   "execution_count": 15,
   "id": "78a3bfa8-0805-4c22-b236-8a1cef6f6f7d",
   "metadata": {},
   "outputs": [],
   "source": [
    "my_car = Car(\"thar\", \"Corolla\", 2024)"
   ]
  },
  {
   "cell_type": "code",
   "execution_count": 17,
   "id": "3e7a99c1-96f3-4b05-8af1-024ef80c3ae0",
   "metadata": {},
   "outputs": [
    {
     "name": "stdout",
     "output_type": "stream",
     "text": [
      "thar\n",
      "2024\n",
      "The engine of the 2024 thar Corolla is now running.\n"
     ]
    }
   ],
   "source": [
    "print(my_car.make)  \n",
    "print(my_car.year)  \n",
    "\n",
    "my_car.start_engine()"
   ]
  },
  {
   "cell_type": "raw",
   "id": "d983e04c-23cc-493f-aa24-d5dbb019f718",
   "metadata": {},
   "source": [
    "3. Explain the difference between instance methods and class methods. Provide an example of each."
   ]
  },
  {
   "cell_type": "raw",
   "id": "22a617a2-f024-40b3-83cf-4eea58caa1f9",
   "metadata": {},
   "source": [
    "3. Explain the difference between instance methods and class methods. Provide an example of each."
   ]
  },
  {
   "cell_type": "raw",
   "id": "f3299ced-5c9b-457e-aa69-1c6a3f536e81",
   "metadata": {},
   "source": [
    "Answer:- Class Method\n",
    "        Class methods are associated with the class rather than instances. They are defined using the @classmethod decorator and take the class itself as the first parameter, usually named cls. Class methods are useful for tasks that involve the class rather than the instance, such as creating class-specific behaviors or modifying class-level attributes.\n",
    "    Example:- the MyClass defines a class variable class_variable, and the class_method is a class method that increments this variable. When calling the method with different values, it updates and returns the modified class variable. Instances obj1 and obj2 have their own instance_variable.\n",
    "\n",
    "   Instance Method\n",
    "    Instance methods are the most common type of methods in Python classes. They are associated with instances of a class and operate on the instance's data. When defining an instance method, the method's first parameter is typically named self, which refers to the instance calling the method. This allows the method to access and manipulate the instance's attributes.\n",
    "  Example:- the Person class defines an instance method introduce which returns a formatted introduction based on the instance's name and age attributes. The instance person1 is created with the name \"Kishan\" and age 20, and invoking the introduce method prints a personalized introduction for that instance. Note that there's a small typo in the comment mentioning the age; it should be 20 instead of 30."
   ]
  },
  {
   "cell_type": "raw",
   "id": "d869a099-ad70-48d2-943d-371513850582",
   "metadata": {},
   "source": [
    "4. How does Python implement method overloading? Give an example."
   ]
  },
  {
   "cell_type": "raw",
   "id": "0d6e054b-9550-4f8c-a613-14f2f945c8ab",
   "metadata": {},
   "source": [
    "Answer:- Method overloading  \n",
    "is a feature of object-oriented programming where a class can have multiple methods with the same name but different parameters. To overload method, we must change the number of parameters or the type of parameters, or both.\n",
    "\n",
    "Method Overloading in Python\n",
    "Unlike other programming languages like Java, C++, and C#, Python does not support the feature of method overloading by default. However, there are alternative ways to achieve it."
   ]
  },
  {
   "cell_type": "code",
   "execution_count": 25,
   "id": "bbb34a22-d475-422d-a70d-967e342abeee",
   "metadata": {},
   "outputs": [
    {
     "name": "stdout",
     "output_type": "stream",
     "text": [
      "60\n"
     ]
    },
    {
     "ename": "TypeError",
     "evalue": "example.add() missing 1 required positional argument: 'c'",
     "output_type": "error",
     "traceback": [
      "\u001b[1;31m---------------------------------------------------------------------------\u001b[0m",
      "\u001b[1;31mTypeError\u001b[0m                                 Traceback (most recent call last)",
      "Cell \u001b[1;32mIn[25], line 12\u001b[0m\n\u001b[0;32m      9\u001b[0m obj \u001b[38;5;241m=\u001b[39m example()\n\u001b[0;32m     11\u001b[0m \u001b[38;5;28mprint\u001b[39m (obj\u001b[38;5;241m.\u001b[39madd(\u001b[38;5;241m10\u001b[39m,\u001b[38;5;241m20\u001b[39m,\u001b[38;5;241m30\u001b[39m))\n\u001b[1;32m---> 12\u001b[0m \u001b[38;5;28mprint\u001b[39m (obj\u001b[38;5;241m.\u001b[39madd(\u001b[38;5;241m10\u001b[39m,\u001b[38;5;241m20\u001b[39m))\n",
      "\u001b[1;31mTypeError\u001b[0m: example.add() missing 1 required positional argument: 'c'"
     ]
    }
   ],
   "source": [
    "class ex"
   ]
  },
  {
   "cell_type": "raw",
   "id": "93c9d6e8-7896-4de1-bf48-cfe5f9f4652a",
   "metadata": {},
   "source": [
    "5. What are the three types of access modifiers in Python? How are they denoted?"
   ]
  },
  {
   "cell_type": "raw",
   "id": "3e3c9131-e897-4e7f-b5cc-9a6a10709920",
   "metadata": {},
   "source": [
    "Answer:- Public Access Modifier\n",
    "By default the member variables and methods are public which means they can be accessed from anywhere outside or inside the class. No public keyword is required to make the class or methods and properties public.Here is an example of Public access modifier.\n",
    "\n",
    "   Private Access Modifier\n",
    "Class properties and methods with private access modifier can only be accessed within the class where they are defined and cannot be accessed outside the class. In Python private properties and methods are declared by adding a prefix with two underscores(‘__’) before their declaration. \n",
    "\n",
    "   Protected Access Modifier\n",
    "Class properties and methods with protected access modifier can be accessed within the class and from the class that inherits the protected class. In python, protected members and methods are declared using single underscore(‘_’) as prefix before their names.\n"
   ]
  },
  {
   "cell_type": "code",
   "execution_count": 27,
   "id": "0d0b8eca-3727-4694-966f-d55de2d0ac29",
   "metadata": {},
   "outputs": [
    {
     "data": {
      "text/plain": [
       "['__add__',\n",
       " '__class__',\n",
       " '__contains__',\n",
       " '__delattr__',\n",
       " '__dir__',\n",
       " '__doc__',\n",
       " '__eq__',\n",
       " '__format__',\n",
       " '__ge__',\n",
       " '__getattribute__',\n",
       " '__getitem__',\n",
       " '__getnewargs__',\n",
       " '__getstate__',\n",
       " '__gt__',\n",
       " '__hash__',\n",
       " '__init__',\n",
       " '__init_subclass__',\n",
       " '__iter__',\n",
       " '__le__',\n",
       " '__len__',\n",
       " '__lt__',\n",
       " '__mod__',\n",
       " '__mul__',\n",
       " '__ne__',\n",
       " '__new__',\n",
       " '__reduce__',\n",
       " '__reduce_ex__',\n",
       " '__repr__',\n",
       " '__rmod__',\n",
       " '__rmul__',\n",
       " '__setattr__',\n",
       " '__sizeof__',\n",
       " '__str__',\n",
       " '__subclasshook__',\n",
       " 'capitalize',\n",
       " 'casefold',\n",
       " 'center',\n",
       " 'count',\n",
       " 'encode',\n",
       " 'endswith',\n",
       " 'expandtabs',\n",
       " 'find',\n",
       " 'format',\n",
       " 'format_map',\n",
       " 'index',\n",
       " 'isalnum',\n",
       " 'isalpha',\n",
       " 'isascii',\n",
       " 'isdecimal',\n",
       " 'isdigit',\n",
       " 'isidentifier',\n",
       " 'islower',\n",
       " 'isnumeric',\n",
       " 'isprintable',\n",
       " 'isspace',\n",
       " 'istitle',\n",
       " 'isupper',\n",
       " 'join',\n",
       " 'ljust',\n",
       " 'lower',\n",
       " 'lstrip',\n",
       " 'maketrans',\n",
       " 'partition',\n",
       " 'removeprefix',\n",
       " 'removesuffix',\n",
       " 'replace',\n",
       " 'rfind',\n",
       " 'rindex',\n",
       " 'rjust',\n",
       " 'rpartition',\n",
       " 'rsplit',\n",
       " 'rstrip',\n",
       " 'split',\n",
       " 'splitlines',\n",
       " 'startswith',\n",
       " 'strip',\n",
       " 'swapcase',\n",
       " 'title',\n",
       " 'translate',\n",
       " 'upper',\n",
       " 'zfill']"
      ]
     },
     "execution_count": 27,
     "metadata": {},
     "output_type": "execute_result"
    }
   ],
   "source": [
    "dir(str)"
   ]
  },
  {
   "cell_type": "raw",
   "id": "74d64287-f8ea-4027-9cb0-10fba8f52bf0",
   "metadata": {},
   "source": [
    "6. Describe the five types of inheritance in Python. Provide a simple example of multiple inheritance."
   ]
  },
  {
   "cell_type": "raw",
   "id": "70dbeb89-da55-4e24-9216-c393612d71d6",
   "metadata": {},
   "source": [
    "Answer:-  i) Single Inheritance: \n",
    "Single inheritance enables a derived class to inherit properties from a single parent class, thus enabling code reusability and the addition of new features to existing code.\n",
    "\n",
    "      ii) Multiple Inheritance: \n",
    "When a class can be derived from more than one base class this type of inheritance is called multiple inheritances. In multiple inheritances, all the features of the base classes are inherited into the derived class. \n",
    "\n",
    "      iii)Multilevel Inheritance :\n",
    "In multilevel inheritance, features of the base class and the derived class are further inherited into the new derived class. This is similar to a relationship representing a child and a grandfather. \n",
    "\n",
    "      iv)Hierarchical Inheritance: \n",
    "When more than one derived class are created from a single base this type of inheritance is called hierarchical inheritance. In this program, we have a parent (base) class and two child (derived) classes.\n",
    "\n",
    "      v)Hybrid Inheritance: \n",
    "Inheritance consisting of multiple types of inheritance is called hybrid inheritance."
   ]
  },
  {
   "cell_type": "code",
   "execution_count": 31,
   "id": "a4960077-6345-4ece-a1e8-96b89c4b03ae",
   "metadata": {},
   "outputs": [
    {
     "name": "stdout",
     "output_type": "stream",
     "text": [
      "Father : RAM\n",
      "Mother : SITA\n"
     ]
    }
   ],
   "source": [
    "\n",
    "class Mother:\n",
    "\tmothername = \"\"\n",
    "\n",
    "\tdef mother(self):\n",
    "\t\tprint(self.mothername)\n",
    "\n",
    "\n",
    "class Father:\n",
    "\tfathername = \"\"\n",
    "\n",
    "\tdef father(self):\n",
    "\t\tprint(self.fathername)\n",
    "\n",
    "class Son(Mother, Father):\n",
    "\tdef parents(self):\n",
    "\t\tprint(\"Father :\", self.fathername)\n",
    "\t\tprint(\"Mother :\", self.mothername)\n",
    "\n",
    "s1 = Son()\n",
    "s1.fathername = \"RAM\"\n",
    "s1.mothername = \"SITA\"\n",
    "s1.parents()\n"
   ]
  },
  {
   "cell_type": "raw",
   "id": "3c18a41a-3208-498c-b850-2df7b11cc45f",
   "metadata": {},
   "source": [
    "7. What is the Method Resolution Order (MRO) in Python? How can you retrieve it programmatically?"
   ]
  },
  {
   "cell_type": "raw",
   "id": "81af5475-8247-4be5-831d-56fc9bff5d8c",
   "metadata": {},
   "source": [
    "Answer:-Method Resolution Order : \n",
    "Method Resolution Order(MRO) it denotes the way a programming language resolves a method or attribute. Python supports classes inheriting from other classes. The class being inherited is called the Parent or Superclass, while the class that inherits is called the Child or Subclass. In python, method resolution order defines the order in which the base classes are searched when executing a method. First, the method or attribute is searched within a class and then it follows the order we specified while inheriting. This order is also called Linearization of a class and set of rules are called MRO(Method Resolution Order). While inheriting from another class, the interpreter needs a way to resolve the methods that are being called via an instance. Thus we need the method resolution order."
   ]
  },
  {
   "cell_type": "code",
   "execution_count": 39,
   "id": "db85410a-e3c5-4499-b0f6-2b801f830595",
   "metadata": {},
   "outputs": [
    {
     "name": "stdout",
     "output_type": "stream",
     "text": [
      "B\n",
      "(<class '__main__.D'>, <class '__main__.B'>, <class '__main__.C'>, <class '__main__.A'>, <class 'object'>)\n"
     ]
    }
   ],
   "source": [
    "class A:\n",
    "    def method(self):\n",
    "        print(\"A\")\n",
    "\n",
    "class B(A):\n",
    "    def method(self):\n",
    "        print(\"B\")\n",
    "\n",
    "class C(A):\n",
    "    def method(self):\n",
    "        print(\"C\")\n",
    "\n",
    "class D(B, C):\n",
    "    pass\n",
    "\n",
    "d = D()\n",
    "d.method()  \n",
    "print(D.__mro__)"
   ]
  },
  {
   "cell_type": "raw",
   "id": "75e79b42-9094-4c5e-84d5-e1c26a32ebe3",
   "metadata": {},
   "source": [
    "8. Create an abstract base class `Shape` with an abstract method `area()`. Then create two subclasses\n",
    "`Circle` and `Rectangle` that implement the `area()` method."
   ]
  },
  {
   "cell_type": "raw",
   "id": "dbe2968b-cb7d-4802-a141-1864c2a9464f",
   "metadata": {},
   "source": [
    "Answer:-  "
   ]
  },
  {
   "cell_type": "code",
   "execution_count": 5,
   "id": "95c8197c-4d2e-4bcc-8b5d-28aeff98a4af",
   "metadata": {},
   "outputs": [
    {
     "name": "stdout",
     "output_type": "stream",
     "text": [
      "Area of the circle: 78.54\n",
      "Area of the rectangle: 24.00\n"
     ]
    }
   ],
   "source": [
    "from abc import ABC, abstractmethod\n",
    "import math\n",
    "\n",
    "class Shape(ABC):\n",
    "    @abstractmethod\n",
    "    def area(self):\n",
    "        pass\n",
    "\n",
    "class Circle(Shape):\n",
    "    def __init__(self, radius):\n",
    "        self.radius = radius\n",
    "\n",
    "    def area(self):\n",
    "        return math.pi * (self.radius ** 2)\n",
    "\n",
    "class Rectangle(Shape):\n",
    "    def __init__(self, width, height):\n",
    "        self.width = width\n",
    "        self.height = height\n",
    "\n",
    "    def area(self):\n",
    "        return self.width * self.height\n",
    "if __name__ == \"__main__\":\n",
    "    circle = Circle(5)\n",
    "    rectangle = Rectangle(4, 6)\n",
    "\n",
    "    print(f\"Area of the circle: {circle.area():.2f}\")\n",
    "    print(f\"Area of the rectangle: {rectangle.area():.2f}\")"
   ]
  },
  {
   "cell_type": "raw",
   "id": "47948516-8ef0-43b1-9ac9-0654d61d16a0",
   "metadata": {},
   "source": [
    "9. Demonstrate polymorphism by creating a function that can work with different shape objects to calculate\n",
    "and print their areas."
   ]
  },
  {
   "cell_type": "raw",
   "id": "e7db4caf-178d-4a6c-b933-4bc5f8a85c56",
   "metadata": {},
   "source": [
    "Answer:-"
   ]
  },
  {
   "cell_type": "code",
   "execution_count": 11,
   "id": "a084b604-5bcc-4e25-9112-2af178b28758",
   "metadata": {},
   "outputs": [],
   "source": [
    "class Shape:\n",
    "    def area(self):\n",
    "        raise NotImplementedError(\"Subclasses must implement this method\")"
   ]
  },
  {
   "cell_type": "code",
   "execution_count": 13,
   "id": "73d4b4e8-8624-4531-a565-258c5127aa9f",
   "metadata": {},
   "outputs": [],
   "source": [
    "import math\n",
    "\n",
    "class Circle(Shape):\n",
    "    def __init__(self, radius):\n",
    "        self.radius = radius\n",
    "\n",
    "    def area(self):\n",
    "        return math.pi * (self.radius ** 2)\n",
    "\n",
    "class Rectangle(Shape):\n",
    "    def __init__(self, width, height):\n",
    "        self.width = width\n",
    "        self.height = height\n",
    "\n",
    "    def area(self):\n",
    "        return self.width * self.height\n",
    "\n",
    "class Triangle(Shape):\n",
    "    def __init__(self, base, height):\n",
    "        self.base = base\n",
    "        self.height = height\n",
    "\n",
    "    def area(self):\n",
    "        return 0.5 * self.base * self.height\n"
   ]
  },
  {
   "cell_type": "code",
   "execution_count": 15,
   "id": "88f84ae4-b885-4f05-b95b-5490859a4d98",
   "metadata": {},
   "outputs": [],
   "source": [
    "def print_areas(shapes):\n",
    "    for shape in shapes:\n",
    "        print(f\"Area: {shape.area()}\")\n",
    "\n"
   ]
  },
  {
   "cell_type": "code",
   "execution_count": 17,
   "id": "d84e1a24-570d-42e2-a24d-076b86ff85de",
   "metadata": {},
   "outputs": [
    {
     "name": "stdout",
     "output_type": "stream",
     "text": [
      "Area: 78.53981633974483\n",
      "Area: 24\n",
      "Area: 6.0\n"
     ]
    }
   ],
   "source": [
    "if __name__ == \"__main__\":\n",
    "    shapes = [\n",
    "        Circle(radius=5),\n",
    "        Rectangle(width=4, height=6),\n",
    "        Triangle(base=3, height=4)\n",
    "    ]\n",
    "\n",
    "    print_areas(shapes)\n"
   ]
  },
  {
   "cell_type": "raw",
   "id": "328b1671-cb39-4593-84a8-16ebb1eda10a",
   "metadata": {},
   "source": [
    "10. Implement encapsulation in a `BankAccount` class with private attributes for `balance` and\n",
    "`account_number`. Include methods for deposit, withdrawal, and balance inquiry."
   ]
  },
  {
   "cell_type": "code",
   "execution_count": null,
   "id": "cba7a265-b190-4c88-bd0b-d2390504a6fa",
   "metadata": {},
   "outputs": [],
   "source": [
    "Answer:-"
   ]
  },
  {
   "cell_type": "code",
   "execution_count": 1,
   "id": "25ece468-9b69-41ee-87fb-733e61a9a71d",
   "metadata": {},
   "outputs": [
    {
     "name": "stdout",
     "output_type": "stream",
     "text": [
      "Deposited: $500.00. New balance: $1500.00.\n",
      "Withdrew: $200.00. New balance: $1300.00.\n",
      "Current balance: $1300.00\n",
      "Account number: 123456789\n"
     ]
    }
   ],
   "source": [
    "class BankAccount:\n",
    "    def __init__(self, account_number, initial_balance=0):\n",
    "        self.__account_number = account_number  \n",
    "        self.__balance = initial_balance         \n",
    "\n",
    "    def deposit(self, amount):\n",
    "        \"\"\"Deposit money into the account.\"\"\"\n",
    "        if amount > 0:\n",
    "            self.__balance += amount\n",
    "            print(f\"Deposited: ${amount:.2f}. New balance: ${self.__balance:.2f}.\")\n",
    "        else:\n",
    "            print(\"Deposit amount must be positive.\")\n",
    "\n",
    "    def withdraw(self, amount):\n",
    "        \"\"\"Withdraw money from the account if sufficient funds are available.\"\"\"\n",
    "        if amount > 0:\n",
    "            if amount <= self.__balance:\n",
    "                self.__balance -= amount\n",
    "                print(f\"Withdrew: ${amount:.2f}. New balance: ${self.__balance:.2f}.\")\n",
    "            else:\n",
    "                print(\"Insufficient funds for withdrawal.\")\n",
    "        else:\n",
    "            print(\"Withdrawal amount must be positive.\")\n",
    "\n",
    "    def get_balance(self):\n",
    "        \"\"\"Return the current balance.\"\"\"\n",
    "        return self.__balance\n",
    "\n",
    "    def get_account_number(self):\n",
    "        \"\"\"Return the account number.\"\"\"\n",
    "        return self.__account_number\n",
    "if __name__ == \"__main__\":\n",
    "    account = BankAccount(\"123456789\", 1000)\n",
    "    account.deposit(500)\n",
    "    account.withdraw(200)\n",
    "    print(f\"Current balance: ${account.get_balance():.2f}\")\n",
    "    print(f\"Account number: {account.get_account_number()}\")"
   ]
  },
  {
   "cell_type": "raw",
   "id": "a4284738-f5f9-44a2-9ce0-b58a792c3635",
   "metadata": {},
   "source": [
    "11). Write a class that overrides the `__str__` and `__add__` magic methods. What will these methods allow\n",
    "you to do?"
   ]
  },
  {
   "cell_type": "code",
   "execution_count": null,
   "id": "c909cbd0-9ac4-4a81-8d68-c37d6b0e9e18",
   "metadata": {},
   "outputs": [],
   "source": [
    "Answer:-"
   ]
  },
  {
   "cell_type": "code",
   "execution_count": 19,
   "id": "dc657b61-4935-463f-a8f1-27019c129f99",
   "metadata": {},
   "outputs": [
    {
     "name": "stdout",
     "output_type": "stream",
     "text": [
      "Vector(1, 2)\n",
      "Vector(4, 6)\n"
     ]
    }
   ],
   "source": [
    "class Vector:\n",
    "    def __init__(self, x, y):\n",
    "        self.x = x\n",
    "        self.y = y\n",
    "\n",
    "    def __str__(self):\n",
    "        return f\"Vector({self.x}, {self.y})\"\n",
    "\n",
    "    def __add__(self, other):\n",
    "        if isinstance(other, Vector):\n",
    "            return Vector(self.x + other.x, self.y + other.y)\n",
    "        return NotImplemented\n",
    "\n",
    "# Example usage\n",
    "v1 = Vector(1, 2)\n",
    "v2 = Vector(3, 4)\n",
    "\n",
    "# Using the __str__ method\n",
    "print(v1)  # Output: Vector(1, 2)\n",
    "\n",
    "# Using the __add__ method\n",
    "v3 = v1 + v2\n",
    "print(v3)  # Output: Vector(4, 6)\n"
   ]
  },
  {
   "cell_type": "raw",
   "id": "89584d1f-1df0-430a-81be-c2d8db8b6108",
   "metadata": {},
   "source": [
    "12. Create a decorator that measures and prints the execution time of a function."
   ]
  },
  {
   "cell_type": "code",
   "execution_count": null,
   "id": "20f66f5f-03f2-4b17-a8b1-f54866efbb26",
   "metadata": {},
   "outputs": [],
   "source": [
    "Answer:-"
   ]
  },
  {
   "cell_type": "code",
   "execution_count": 21,
   "id": "958eb6e3-02fe-46b0-aa33-c9178c5f426e",
   "metadata": {},
   "outputs": [
    {
     "name": "stdout",
     "output_type": "stream",
     "text": [
      "Execution time of example_function: 0.2123 seconds\n"
     ]
    },
    {
     "data": {
      "text/plain": [
       "499999500000"
      ]
     },
     "execution_count": 21,
     "metadata": {},
     "output_type": "execute_result"
    }
   ],
   "source": [
    "import time\n",
    "\n",
    "def execution_time_decorator(func):\n",
    "    def wrapper(*args, **kwargs):\n",
    "        start_time = time.time()  # Record the start time\n",
    "        result = func(*args, **kwargs)  # Call the function\n",
    "        end_time = time.time()  # Record the end time\n",
    "        execution_time = end_time - start_time  # Calculate execution time\n",
    "        print(f\"Execution time of {func.__name__}: {execution_time:.4f} seconds\")\n",
    "        return result  # Return the result of the function\n",
    "    return wrapper\n",
    "\n",
    "# Example usage\n",
    "@execution_time_decorator\n",
    "def example_function(n):\n",
    "    total = 0\n",
    "    for i in range(n):\n",
    "        total += i\n",
    "    return total\n",
    "\n",
    "# Call the decorated function\n",
    "example_function(1000000)\n"
   ]
  },
  {
   "cell_type": "raw",
   "id": "85411ec4-13d2-46d1-a26a-cfa2e7261185",
   "metadata": {},
   "source": [
    "13. Explain the concept of the Diamond Problem in multiple inheritance. How does Python resolve it?"
   ]
  },
  {
   "cell_type": "code",
   "execution_count": null,
   "id": "1f50346a-df7e-4370-a799-607f4e75a7c8",
   "metadata": {},
   "outputs": [],
   "source": [
    "Answer:-"
   ]
  },
  {
   "cell_type": "code",
   "execution_count": 23,
   "id": "c48fb6b0-b0d9-4102-833d-cd535fccaa66",
   "metadata": {},
   "outputs": [
    {
     "name": "stdout",
     "output_type": "stream",
     "text": [
      "[<class '__main__.D'>, <class '__main__.B'>, <class '__main__.C'>, <class '__main__.A'>, <class 'object'>]\n"
     ]
    }
   ],
   "source": [
    "class A:\n",
    "    def method(self):\n",
    "        print(\"Method from A\")\n",
    "\n",
    "class B(A):\n",
    "    def method(self):\n",
    "        print(\"Method from B\")\n",
    "\n",
    "class C(A):\n",
    "    def method(self):\n",
    "        print(\"Method from C\")\n",
    "\n",
    "class D(B, C):\n",
    "    pass\n",
    "\n",
    "print(D.mro())  \n"
   ]
  },
  {
   "cell_type": "raw",
   "id": "0c4bdf96-f4a0-4c0c-bdca-554fc341f8af",
   "metadata": {},
   "source": [
    "14. Write a class method that keeps track of the number of instances created from a class"
   ]
  },
  {
   "cell_type": "code",
   "execution_count": null,
   "id": "4a418131-a75e-4ae6-b95c-5c4d7bff610e",
   "metadata": {},
   "outputs": [],
   "source": [
    "Answer:-"
   ]
  },
  {
   "cell_type": "code",
   "execution_count": 27,
   "id": "a40709ac-ab69-4404-b534-4f8956862d22",
   "metadata": {},
   "outputs": [
    {
     "name": "stdout",
     "output_type": "stream",
     "text": [
      "3\n"
     ]
    }
   ],
   "source": [
    "class MyClass:\n",
    "    instance_count = 0  \n",
    "\n",
    "    def __init__(self):\n",
    "        MyClass.instance_count += 1  \n",
    "\n",
    "    @classmethod\n",
    "    def get_instance_count(cls):\n",
    "        return cls.instance_count  \n",
    "\n",
    "\n",
    "if __name__ == \"__main__\":\n",
    "    obj1 = MyClass()\n",
    "    obj2 = MyClass()\n",
    "    obj3 = MyClass()\n",
    "\n",
    "    print(MyClass.get_instance_count())  \n"
   ]
  },
  {
   "cell_type": "raw",
   "id": "2d266a87-f4dd-4ec9-9692-04a198338ac7",
   "metadata": {},
   "source": [
    "15. Implement a static method in a class that checks if a given year is a leap year."
   ]
  },
  {
   "cell_type": "code",
   "execution_count": null,
   "id": "c01bb7aa-f921-4088-8fc7-2cee1e067bf8",
   "metadata": {},
   "outputs": [],
   "source": [
    "Answer:-"
   ]
  },
  {
   "cell_type": "code",
   "execution_count": 29,
   "id": "c2b9a447-12c1-47ad-bb1b-c333f82fb7b5",
   "metadata": {},
   "outputs": [
    {
     "name": "stdout",
     "output_type": "stream",
     "text": [
      "2024 is a leap year.\n"
     ]
    }
   ],
   "source": [
    "class YearUtils:\n",
    "    @staticmethod\n",
    "    def is_leap_year(year):\n",
    "        if (year % 4 == 0 and year % 100 != 0) or (year % 400 == 0):\n",
    "            return True\n",
    "        return False\n",
    "\n",
    "# Example usage:\n",
    "year = 2024\n",
    "if YearUtils.is_leap_year(year):\n",
    "    print(f\"{year} is a leap year.\")\n",
    "else:\n",
    "    print(f\"{year} is not a leap year.\")\n"
   ]
  },
  {
   "cell_type": "code",
   "execution_count": null,
   "id": "acf40894-6d32-4756-ac4b-4bc3a03ffaab",
   "metadata": {},
   "outputs": [],
   "source": []
  }
 ],
 "metadata": {
  "kernelspec": {
   "display_name": "Python 3 (ipykernel)",
   "language": "python",
   "name": "python3"
  },
  "language_info": {
   "codemirror_mode": {
    "name": "ipython",
    "version": 3
   },
   "file_extension": ".py",
   "mimetype": "text/x-python",
   "name": "python",
   "nbconvert_exporter": "python",
   "pygments_lexer": "ipython3",
   "version": "3.12.4"
  }
 },
 "nbformat": 4,
 "nbformat_minor": 5
}
